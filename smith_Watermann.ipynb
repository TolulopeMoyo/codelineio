{
  "nbformat": 4,
  "nbformat_minor": 0,
  "metadata": {
    "colab": {
      "name": "smith-Watermann.ipynb",
      "provenance": [],
      "collapsed_sections": [],
      "include_colab_link": true
    },
    "kernelspec": {
      "name": "python3",
      "display_name": "Python 3"
    }
  },
  "cells": [
    {
      "cell_type": "markdown",
      "metadata": {
        "id": "view-in-github",
        "colab_type": "text"
      },
      "source": [
        "<a href=\"https://colab.research.google.com/github/TolulopeMoyo/codelineio/blob/master/smith_Watermann.ipynb\" target=\"_parent\"><img src=\"https://colab.research.google.com/assets/colab-badge.svg\" alt=\"Open In Colab\"/></a>"
      ]
    },
    {
      "cell_type": "code",
      "metadata": {
        "id": "Q4yFbBLEHR4y",
        "colab_type": "code",
        "colab": {}
      },
      "source": [
        "import itertools\n",
        "import numpy as np\n",
        "\n",
        "def matrix(a, b, match_score=3, gap_cost=2):\n",
        "    H = np.zeros((len(a) + 1, len(b) + 1), np.int)\n",
        "\n",
        "    for i, j in itertools.product(range(1, H.shape[0]), range(1, H.shape[1])):\n",
        "        match = H[i - 1, j - 1] + (match_score if a[i - 1] == b[j - 1] else - match_score)\n",
        "        delete = H[i - 1, j] - gap_cost\n",
        "        insert = H[i, j - 1] - gap_cost\n",
        "        H[i, j] = max(match, delete, insert, 0)\n",
        "    return H"
      ],
      "execution_count": 0,
      "outputs": []
    },
    {
      "cell_type": "code",
      "metadata": {
        "id": "cdtuTtaYHaJQ",
        "colab_type": "code",
        "colab": {}
      },
      "source": [
        "def traceback(H, b, b_='', old_i=0):\n",
        "    # flip H to get index of **last** occurrence of H.max() with np.argmax()\n",
        "    H_flip = np.flip(np.flip(H, 0), 1)\n",
        "    i_, j_ = np.unravel_index(H_flip.argmax(), H_flip.shape)\n",
        "    i, j = np.subtract(H.shape, (i_ + 1, j_ + 1))  # (i, j) are **last** indexes of H.max()\n",
        "    if H[i, j] == 0:\n",
        "        return b_, j\n",
        "    b_ = b[j - 1] + '-' + b_ if old_i - i > 1 else b[j - 1] + b_\n",
        "    return traceback(H[0:i, 0:j], b, b_, i)"
      ],
      "execution_count": 0,
      "outputs": []
    },
    {
      "cell_type": "code",
      "metadata": {
        "id": "YPxrpHf_HpPD",
        "colab_type": "code",
        "colab": {}
      },
      "source": [
        "def smith_waterman(a, b, match_score=3, gap_cost=2):\n",
        "    a, b = a.upper(), b.upper()\n",
        "    H = matrix(a, b, match_score, gap_cost)\n",
        "    b_, pos = traceback(H, b)\n",
        "    return pos, pos + len(b_)"
      ],
      "execution_count": 0,
      "outputs": []
    },
    {
      "cell_type": "code",
      "metadata": {
        "id": "qXP0gCUCHu5r",
        "colab_type": "code",
        "outputId": "5c517bb0-fb32-4496-a7e6-caa782e76639",
        "colab": {
          "base_uri": "https://localhost:8080/",
          "height": 306
        }
      },
      "source": [
        "# prints correct scoring matrix from Wikipedia example\n",
        "    print(matrix('TACGGGCCCGCTAC', 'TAGCCCTATCGGTCA'))\n",
        "\n",
        "    a, b = 'tacgggcccgctac', 'tagccctatcggtca'\n",
        "    H = matrix(a, b)\n",
        "    print(traceback(H, b)) # ('gtt-ac', 1)\n",
        "\n",
        "    a, b = 'tacgggcccgctac', 'tagccctatcggtca'\n",
        "    start, end = smith_waterman(a, b)\n",
        "    print(a[start:end])     # GTTGAC"
      ],
      "execution_count": 10,
      "outputs": [
        {
          "output_type": "stream",
          "text": [
            "[[ 0  0  0  0  0  0  0  0  0  0  0  0  0  0  0  0]\n",
            " [ 0  3  1  0  0  0  0  3  1  3  1  0  0  3  1  0]\n",
            " [ 0  1  6  4  2  0  0  1  6  4  2  0  0  1  0  4]\n",
            " [ 0  0  4  3  7  5  3  1  4  3  7  5  3  1  4  2]\n",
            " [ 0  0  2  7  5  4  2  0  2  1  5 10  8  6  4  2]\n",
            " [ 0  0  0  5  4  2  1  0  0  0  3  8 13 11  9  7]\n",
            " [ 0  0  0  3  2  1  0  0  0  0  1  6 11 10  8  6]\n",
            " [ 0  0  0  1  6  5  4  2  0  0  3  4  9  8 13 11]\n",
            " [ 0  0  0  0  4  9  8  6  4  2  3  2  7  6 11 10]\n",
            " [ 0  0  0  0  3  7 12 10  8  6  5  3  5  4  9  8]\n",
            " [ 0  0  0  3  1  5 10  9  7  5  3  8  6  4  7  6]\n",
            " [ 0  0  0  1  6  4  8  7  6  4  8  6  5  3  7  5]\n",
            " [ 0  3  1  0  4  3  6 11  9  9  7  5  3  8  6  4]\n",
            " [ 0  1  6  4  2  1  4  9 14 12 10  8  6  6  5  9]\n",
            " [ 0  0  4  3  7  5  4  7 12 11 15 13 11  9  9  7]]\n",
            "('ta-g-cc-ac', 0)\n",
            "tacgggcccg\n"
          ],
          "name": "stdout"
        }
      ]
    }
  ]
}